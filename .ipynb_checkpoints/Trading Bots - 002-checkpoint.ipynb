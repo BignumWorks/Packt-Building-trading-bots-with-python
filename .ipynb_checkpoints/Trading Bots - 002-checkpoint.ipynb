{
 "cells": [
  {
   "cell_type": "markdown",
   "metadata": {},
   "source": [
    "## How to Handle Trading data using Python"
   ]
  },
  {
   "cell_type": "markdown",
   "metadata": {},
   "source": [
    "In this title, we are going to look at the basics of how to handle trade data and use python to do the same.\n",
    "\n",
    "The basis of tLet us first understand what time series is...\n",
    "\n",
    "Time series:\n",
    "\n",
    "A time series is a sequence of numerical data points taken at successive equally spaced points in time. In investing, a time series tracks the movement of the chosen data points, such as the stock price, over a specified period of time with data points recorded at regular intervals.\n",
    "\n",
    "Let us look at how we represent these data points in Python."
   ]
  },
  {
   "cell_type": "markdown",
   "metadata": {},
   "source": [
    "*Assumptions*\n",
    "\n",
    "1. Python 3.x is installed.\n",
    "2. The following modules are installed. If any of the module is not installed, you can use the command pip install name_of_the_module to install it.\n"
   ]
  },
  {
   "cell_type": "code",
   "execution_count": 26,
   "metadata": {},
   "outputs": [
    {
     "name": "stdout",
     "output_type": "stream",
     "text": [
      "The watermark extension is already loaded. To reload it, use:\n",
      "  %reload_ext watermark\n"
     ]
    }
   ],
   "source": [
    "%load_ext watermark"
   ]
  },
  {
   "cell_type": "code",
   "execution_count": 54,
   "metadata": {},
   "outputs": [
    {
     "name": "stdout",
     "output_type": "stream",
     "text": [
      "matplotlib 2.1.0\n",
      "pandas 0.20.3\n",
      "pandas_datareader 0.5.0\n"
     ]
    }
   ],
   "source": [
    "watermark -p matplotlib,pandas,pandas_datareader"
   ]
  },
  {
   "cell_type": "markdown",
   "metadata": {},
   "source": [
    "\n",
    "For this demo, we are going to use a python library called as quandl. *While we are going to use pandas extensively in this course, this video focuses mostly on a wrapper on pandas_datareader called quandl which helps encapsulte a lot of functionality that pandas_datareader*\n",
    "\n",
    "\n",
    "To install the library, just use the command *pip install quandl*\n",
    "\n",
    "After the installation, we just import quandl like any other module."
   ]
  },
  {
   "cell_type": "code",
   "execution_count": null,
   "metadata": {
    "collapsed": true
   },
   "outputs": [],
   "source": [
    "import quandl"
   ]
  },
  {
   "cell_type": "markdown",
   "metadata": {},
   "source": [
    "This pythong library has further capabilites like\n",
    "\n",
    "* it unifies financial and economic datasets from hundreds of publishers on a single user-friendly platform.\n",
    "* All datasets and databases on Quandl are available directly in Python, using the Quandl Python module.\n",
    "* it is easy and free to use.\n",
    "\n",
    "For Example..."
   ]
  },
  {
   "cell_type": "code",
   "execution_count": 49,
   "metadata": {
    "collapsed": true
   },
   "outputs": [],
   "source": [
    "infy = quandl.get(\"NSE/INFY\", start_date=\"2012-10-01\", end_date=\"2017-01-01\")"
   ]
  },
  {
   "cell_type": "markdown",
   "metadata": {},
   "source": [
    "Helps you get the timeseries data of the Infosys stock from 1st of January 2010 to 1st of January 2017.\n",
    "\n",
    "\n",
    "Note the return type is actually a panda data frame."
   ]
  },
  {
   "cell_type": "code",
   "execution_count": 33,
   "metadata": {},
   "outputs": [
    {
     "data": {
      "text/plain": [
       "pandas.core.frame.DataFrame"
      ]
     },
     "execution_count": 33,
     "metadata": {},
     "output_type": "execute_result"
    }
   ],
   "source": [
    "type(infy)"
   ]
  },
  {
   "cell_type": "markdown",
   "metadata": {},
   "source": [
    "To get the same data as a NumPy Array we use the returns argument to the get method:"
   ]
  },
  {
   "cell_type": "code",
   "execution_count": 36,
   "metadata": {
    "collapsed": true
   },
   "outputs": [],
   "source": [
    "infy_numpy_array = quandl.get(\"NSE/INFY\", start_date=\"2012-10-01\", end_date=\"2017-01-01\", returns=\"numpy\")"
   ]
  },
  {
   "cell_type": "code",
   "execution_count": 53,
   "metadata": {},
   "outputs": [
    {
     "data": {
      "text/plain": [
       "numpy.recarray"
      ]
     },
     "execution_count": 53,
     "metadata": {},
     "output_type": "execute_result"
    }
   ],
   "source": [
    "type(infy_numpy_array)"
   ]
  },
  {
   "cell_type": "markdown",
   "metadata": {},
   "source": [
    "Notice the first argument to the quandl.get method is a quandl code.\n",
    "\n",
    "More details about the same can be obained - For example https://www.quandl.com/search?query=NASDAQ gives you all codes for NASDAQ."
   ]
  },
  {
   "cell_type": "markdown",
   "metadata": {},
   "source": [
    "You can run the head() and tail() methods on the returned Pandas dataframe object to get the first five and last five entries of the timeseries data respectively."
   ]
  },
  {
   "cell_type": "code",
   "execution_count": 50,
   "metadata": {
    "scrolled": true
   },
   "outputs": [
    {
     "data": {
      "text/html": [
       "<div>\n",
       "<style>\n",
       "    .dataframe thead tr:only-child th {\n",
       "        text-align: right;\n",
       "    }\n",
       "\n",
       "    .dataframe thead th {\n",
       "        text-align: left;\n",
       "    }\n",
       "\n",
       "    .dataframe tbody tr th {\n",
       "        vertical-align: top;\n",
       "    }\n",
       "</style>\n",
       "<table border=\"1\" class=\"dataframe\">\n",
       "  <thead>\n",
       "    <tr style=\"text-align: right;\">\n",
       "      <th></th>\n",
       "      <th>Open</th>\n",
       "      <th>High</th>\n",
       "      <th>Low</th>\n",
       "      <th>Last</th>\n",
       "      <th>Close</th>\n",
       "      <th>Total Trade Quantity</th>\n",
       "      <th>Turnover (Lacs)</th>\n",
       "    </tr>\n",
       "    <tr>\n",
       "      <th>Date</th>\n",
       "      <th></th>\n",
       "      <th></th>\n",
       "      <th></th>\n",
       "      <th></th>\n",
       "      <th></th>\n",
       "      <th></th>\n",
       "      <th></th>\n",
       "    </tr>\n",
       "  </thead>\n",
       "  <tbody>\n",
       "    <tr>\n",
       "      <th>2012-10-01</th>\n",
       "      <td>2551.30</td>\n",
       "      <td>2620.20</td>\n",
       "      <td>2549.00</td>\n",
       "      <td>2608.50</td>\n",
       "      <td>2609.65</td>\n",
       "      <td>1103286.0</td>\n",
       "      <td>28602.43</td>\n",
       "    </tr>\n",
       "    <tr>\n",
       "      <th>2012-10-03</th>\n",
       "      <td>2605.25</td>\n",
       "      <td>2619.15</td>\n",
       "      <td>2560.50</td>\n",
       "      <td>2573.00</td>\n",
       "      <td>2578.25</td>\n",
       "      <td>977953.0</td>\n",
       "      <td>25297.88</td>\n",
       "    </tr>\n",
       "    <tr>\n",
       "      <th>2012-10-04</th>\n",
       "      <td>2575.10</td>\n",
       "      <td>2594.90</td>\n",
       "      <td>2557.05</td>\n",
       "      <td>2578.00</td>\n",
       "      <td>2575.65</td>\n",
       "      <td>895535.0</td>\n",
       "      <td>23040.25</td>\n",
       "    </tr>\n",
       "    <tr>\n",
       "      <th>2012-10-05</th>\n",
       "      <td>2585.00</td>\n",
       "      <td>2585.00</td>\n",
       "      <td>2060.55</td>\n",
       "      <td>2526.50</td>\n",
       "      <td>2526.85</td>\n",
       "      <td>1454000.0</td>\n",
       "      <td>36575.19</td>\n",
       "    </tr>\n",
       "    <tr>\n",
       "      <th>2012-10-08</th>\n",
       "      <td>2524.80</td>\n",
       "      <td>2542.90</td>\n",
       "      <td>2460.00</td>\n",
       "      <td>2488.25</td>\n",
       "      <td>2488.20</td>\n",
       "      <td>1009680.0</td>\n",
       "      <td>25250.79</td>\n",
       "    </tr>\n",
       "  </tbody>\n",
       "</table>\n",
       "</div>"
      ],
      "text/plain": [
       "               Open     High      Low     Last    Close  Total Trade Quantity  \\\n",
       "Date                                                                            \n",
       "2012-10-01  2551.30  2620.20  2549.00  2608.50  2609.65             1103286.0   \n",
       "2012-10-03  2605.25  2619.15  2560.50  2573.00  2578.25              977953.0   \n",
       "2012-10-04  2575.10  2594.90  2557.05  2578.00  2575.65              895535.0   \n",
       "2012-10-05  2585.00  2585.00  2060.55  2526.50  2526.85             1454000.0   \n",
       "2012-10-08  2524.80  2542.90  2460.00  2488.25  2488.20             1009680.0   \n",
       "\n",
       "            Turnover (Lacs)  \n",
       "Date                         \n",
       "2012-10-01         28602.43  \n",
       "2012-10-03         25297.88  \n",
       "2012-10-04         23040.25  \n",
       "2012-10-05         36575.19  \n",
       "2012-10-08         25250.79  "
      ]
     },
     "execution_count": 50,
     "metadata": {},
     "output_type": "execute_result"
    }
   ],
   "source": [
    "infy.head()"
   ]
  },
  {
   "cell_type": "code",
   "execution_count": 51,
   "metadata": {},
   "outputs": [
    {
     "data": {
      "text/html": [
       "<div>\n",
       "<style>\n",
       "    .dataframe thead tr:only-child th {\n",
       "        text-align: right;\n",
       "    }\n",
       "\n",
       "    .dataframe thead th {\n",
       "        text-align: left;\n",
       "    }\n",
       "\n",
       "    .dataframe tbody tr th {\n",
       "        vertical-align: top;\n",
       "    }\n",
       "</style>\n",
       "<table border=\"1\" class=\"dataframe\">\n",
       "  <thead>\n",
       "    <tr style=\"text-align: right;\">\n",
       "      <th></th>\n",
       "      <th>Open</th>\n",
       "      <th>High</th>\n",
       "      <th>Low</th>\n",
       "      <th>Last</th>\n",
       "      <th>Close</th>\n",
       "      <th>Total Trade Quantity</th>\n",
       "      <th>Turnover (Lacs)</th>\n",
       "    </tr>\n",
       "    <tr>\n",
       "      <th>Date</th>\n",
       "      <th></th>\n",
       "      <th></th>\n",
       "      <th></th>\n",
       "      <th></th>\n",
       "      <th></th>\n",
       "      <th></th>\n",
       "      <th></th>\n",
       "    </tr>\n",
       "  </thead>\n",
       "  <tbody>\n",
       "    <tr>\n",
       "      <th>2016-12-26</th>\n",
       "      <td>988.00</td>\n",
       "      <td>994.0</td>\n",
       "      <td>975.10</td>\n",
       "      <td>983.35</td>\n",
       "      <td>982.75</td>\n",
       "      <td>1606914.0</td>\n",
       "      <td>15800.50</td>\n",
       "    </tr>\n",
       "    <tr>\n",
       "      <th>2016-12-27</th>\n",
       "      <td>982.75</td>\n",
       "      <td>1001.9</td>\n",
       "      <td>980.00</td>\n",
       "      <td>996.90</td>\n",
       "      <td>998.95</td>\n",
       "      <td>2456408.0</td>\n",
       "      <td>24394.26</td>\n",
       "    </tr>\n",
       "    <tr>\n",
       "      <th>2016-12-28</th>\n",
       "      <td>1002.95</td>\n",
       "      <td>1009.8</td>\n",
       "      <td>995.00</td>\n",
       "      <td>999.00</td>\n",
       "      <td>998.50</td>\n",
       "      <td>2738408.0</td>\n",
       "      <td>27470.40</td>\n",
       "    </tr>\n",
       "    <tr>\n",
       "      <th>2016-12-29</th>\n",
       "      <td>1003.75</td>\n",
       "      <td>1008.0</td>\n",
       "      <td>988.15</td>\n",
       "      <td>990.00</td>\n",
       "      <td>992.35</td>\n",
       "      <td>3120062.0</td>\n",
       "      <td>31134.52</td>\n",
       "    </tr>\n",
       "    <tr>\n",
       "      <th>2016-12-30</th>\n",
       "      <td>998.00</td>\n",
       "      <td>1012.0</td>\n",
       "      <td>992.75</td>\n",
       "      <td>1011.00</td>\n",
       "      <td>1010.60</td>\n",
       "      <td>3633884.0</td>\n",
       "      <td>36590.12</td>\n",
       "    </tr>\n",
       "  </tbody>\n",
       "</table>\n",
       "</div>"
      ],
      "text/plain": [
       "               Open    High     Low     Last    Close  Total Trade Quantity  \\\n",
       "Date                                                                          \n",
       "2016-12-26   988.00   994.0  975.10   983.35   982.75             1606914.0   \n",
       "2016-12-27   982.75  1001.9  980.00   996.90   998.95             2456408.0   \n",
       "2016-12-28  1002.95  1009.8  995.00   999.00   998.50             2738408.0   \n",
       "2016-12-29  1003.75  1008.0  988.15   990.00   992.35             3120062.0   \n",
       "2016-12-30   998.00  1012.0  992.75  1011.00  1010.60             3633884.0   \n",
       "\n",
       "            Turnover (Lacs)  \n",
       "Date                         \n",
       "2016-12-26         15800.50  \n",
       "2016-12-27         24394.26  \n",
       "2016-12-28         27470.40  \n",
       "2016-12-29         31134.52  \n",
       "2016-12-30         36590.12  "
      ]
     },
     "execution_count": 51,
     "metadata": {},
     "output_type": "execute_result"
    }
   ],
   "source": [
    "infy.tail()"
   ]
  },
  {
   "cell_type": "markdown",
   "metadata": {},
   "source": [
    "Notice the each row of this timeseries data corresponds is spaced exactly by a day. \n",
    "\n",
    "Also, each column of a data point has data about opening, high, low and closing trade values along with the volume of the stocks traded. \n",
    "\n",
    "These columns form the basis of analysing the trade data "
   ]
  },
  {
   "cell_type": "markdown",
   "metadata": {},
   "source": [
    "Using quandl we can also get data at various spacing intervals.\n",
    "\n",
    "For Example, to get monthly data of Facebook stock we can use for the year 2016, we can use the get method with an argument called collapse:"
   ]
  },
  {
   "cell_type": "code",
   "execution_count": 44,
   "metadata": {
    "collapsed": true
   },
   "outputs": [],
   "source": [
    "fb = quandl.get(\"WIKI/FB\", start_date=\"2016-01-01\", end_date=\"2017-01-01\", collapse=\"monthly\")"
   ]
  },
  {
   "cell_type": "code",
   "execution_count": 45,
   "metadata": {},
   "outputs": [
    {
     "data": {
      "text/html": [
       "<div>\n",
       "<style>\n",
       "    .dataframe thead tr:only-child th {\n",
       "        text-align: right;\n",
       "    }\n",
       "\n",
       "    .dataframe thead th {\n",
       "        text-align: left;\n",
       "    }\n",
       "\n",
       "    .dataframe tbody tr th {\n",
       "        vertical-align: top;\n",
       "    }\n",
       "</style>\n",
       "<table border=\"1\" class=\"dataframe\">\n",
       "  <thead>\n",
       "    <tr style=\"text-align: right;\">\n",
       "      <th></th>\n",
       "      <th>Open</th>\n",
       "      <th>High</th>\n",
       "      <th>Low</th>\n",
       "      <th>Close</th>\n",
       "      <th>Volume</th>\n",
       "      <th>Ex-Dividend</th>\n",
       "      <th>Split Ratio</th>\n",
       "      <th>Adj. Open</th>\n",
       "      <th>Adj. High</th>\n",
       "      <th>Adj. Low</th>\n",
       "      <th>Adj. Close</th>\n",
       "      <th>Adj. Volume</th>\n",
       "    </tr>\n",
       "    <tr>\n",
       "      <th>Date</th>\n",
       "      <th></th>\n",
       "      <th></th>\n",
       "      <th></th>\n",
       "      <th></th>\n",
       "      <th></th>\n",
       "      <th></th>\n",
       "      <th></th>\n",
       "      <th></th>\n",
       "      <th></th>\n",
       "      <th></th>\n",
       "      <th></th>\n",
       "      <th></th>\n",
       "    </tr>\n",
       "  </thead>\n",
       "  <tbody>\n",
       "    <tr>\n",
       "      <th>2016-01-31</th>\n",
       "      <td>108.99</td>\n",
       "      <td>112.8400</td>\n",
       "      <td>108.8400</td>\n",
       "      <td>112.21</td>\n",
       "      <td>62739548.0</td>\n",
       "      <td>0.0</td>\n",
       "      <td>1.0</td>\n",
       "      <td>108.99</td>\n",
       "      <td>112.8400</td>\n",
       "      <td>108.8400</td>\n",
       "      <td>112.21</td>\n",
       "      <td>62739548.0</td>\n",
       "    </tr>\n",
       "    <tr>\n",
       "      <th>2016-02-29</th>\n",
       "      <td>107.60</td>\n",
       "      <td>108.9101</td>\n",
       "      <td>106.7500</td>\n",
       "      <td>106.92</td>\n",
       "      <td>32778992.0</td>\n",
       "      <td>0.0</td>\n",
       "      <td>1.0</td>\n",
       "      <td>107.60</td>\n",
       "      <td>108.9101</td>\n",
       "      <td>106.7500</td>\n",
       "      <td>106.92</td>\n",
       "      <td>32778992.0</td>\n",
       "    </tr>\n",
       "    <tr>\n",
       "      <th>2016-03-31</th>\n",
       "      <td>114.70</td>\n",
       "      <td>115.0100</td>\n",
       "      <td>113.7682</td>\n",
       "      <td>114.10</td>\n",
       "      <td>21207526.0</td>\n",
       "      <td>0.0</td>\n",
       "      <td>1.0</td>\n",
       "      <td>114.70</td>\n",
       "      <td>115.0100</td>\n",
       "      <td>113.7682</td>\n",
       "      <td>114.10</td>\n",
       "      <td>21207526.0</td>\n",
       "    </tr>\n",
       "    <tr>\n",
       "      <th>2016-04-30</th>\n",
       "      <td>116.82</td>\n",
       "      <td>117.8400</td>\n",
       "      <td>115.8400</td>\n",
       "      <td>117.58</td>\n",
       "      <td>37140594.0</td>\n",
       "      <td>0.0</td>\n",
       "      <td>1.0</td>\n",
       "      <td>116.82</td>\n",
       "      <td>117.8400</td>\n",
       "      <td>115.8400</td>\n",
       "      <td>117.58</td>\n",
       "      <td>37140594.0</td>\n",
       "    </tr>\n",
       "    <tr>\n",
       "      <th>2016-05-31</th>\n",
       "      <td>119.46</td>\n",
       "      <td>120.1000</td>\n",
       "      <td>118.1210</td>\n",
       "      <td>118.81</td>\n",
       "      <td>23547597.0</td>\n",
       "      <td>0.0</td>\n",
       "      <td>1.0</td>\n",
       "      <td>119.46</td>\n",
       "      <td>120.1000</td>\n",
       "      <td>118.1210</td>\n",
       "      <td>118.81</td>\n",
       "      <td>23547597.0</td>\n",
       "    </tr>\n",
       "  </tbody>\n",
       "</table>\n",
       "</div>"
      ],
      "text/plain": [
       "              Open      High       Low   Close      Volume  Ex-Dividend  \\\n",
       "Date                                                                      \n",
       "2016-01-31  108.99  112.8400  108.8400  112.21  62739548.0          0.0   \n",
       "2016-02-29  107.60  108.9101  106.7500  106.92  32778992.0          0.0   \n",
       "2016-03-31  114.70  115.0100  113.7682  114.10  21207526.0          0.0   \n",
       "2016-04-30  116.82  117.8400  115.8400  117.58  37140594.0          0.0   \n",
       "2016-05-31  119.46  120.1000  118.1210  118.81  23547597.0          0.0   \n",
       "\n",
       "            Split Ratio  Adj. Open  Adj. High  Adj. Low  Adj. Close  \\\n",
       "Date                                                                  \n",
       "2016-01-31          1.0     108.99   112.8400  108.8400      112.21   \n",
       "2016-02-29          1.0     107.60   108.9101  106.7500      106.92   \n",
       "2016-03-31          1.0     114.70   115.0100  113.7682      114.10   \n",
       "2016-04-30          1.0     116.82   117.8400  115.8400      117.58   \n",
       "2016-05-31          1.0     119.46   120.1000  118.1210      118.81   \n",
       "\n",
       "            Adj. Volume  \n",
       "Date                     \n",
       "2016-01-31   62739548.0  \n",
       "2016-02-29   32778992.0  \n",
       "2016-03-31   21207526.0  \n",
       "2016-04-30   37140594.0  \n",
       "2016-05-31   23547597.0  "
      ]
     },
     "execution_count": 45,
     "metadata": {},
     "output_type": "execute_result"
    }
   ],
   "source": [
    "fb.head()"
   ]
  },
  {
   "cell_type": "code",
   "execution_count": 46,
   "metadata": {},
   "outputs": [
    {
     "data": {
      "text/html": [
       "<div>\n",
       "<style>\n",
       "    .dataframe thead tr:only-child th {\n",
       "        text-align: right;\n",
       "    }\n",
       "\n",
       "    .dataframe thead th {\n",
       "        text-align: left;\n",
       "    }\n",
       "\n",
       "    .dataframe tbody tr th {\n",
       "        vertical-align: top;\n",
       "    }\n",
       "</style>\n",
       "<table border=\"1\" class=\"dataframe\">\n",
       "  <thead>\n",
       "    <tr style=\"text-align: right;\">\n",
       "      <th></th>\n",
       "      <th>Open</th>\n",
       "      <th>High</th>\n",
       "      <th>Low</th>\n",
       "      <th>Close</th>\n",
       "      <th>Volume</th>\n",
       "      <th>Ex-Dividend</th>\n",
       "      <th>Split Ratio</th>\n",
       "      <th>Adj. Open</th>\n",
       "      <th>Adj. High</th>\n",
       "      <th>Adj. Low</th>\n",
       "      <th>Adj. Close</th>\n",
       "      <th>Adj. Volume</th>\n",
       "    </tr>\n",
       "    <tr>\n",
       "      <th>Date</th>\n",
       "      <th></th>\n",
       "      <th></th>\n",
       "      <th></th>\n",
       "      <th></th>\n",
       "      <th></th>\n",
       "      <th></th>\n",
       "      <th></th>\n",
       "      <th></th>\n",
       "      <th></th>\n",
       "      <th></th>\n",
       "      <th></th>\n",
       "      <th></th>\n",
       "    </tr>\n",
       "  </thead>\n",
       "  <tbody>\n",
       "    <tr>\n",
       "      <th>2016-08-31</th>\n",
       "      <td>125.600</td>\n",
       "      <td>126.22</td>\n",
       "      <td>125.1000</td>\n",
       "      <td>126.12</td>\n",
       "      <td>14200636.0</td>\n",
       "      <td>0.0</td>\n",
       "      <td>1.0</td>\n",
       "      <td>125.600</td>\n",
       "      <td>126.22</td>\n",
       "      <td>125.1000</td>\n",
       "      <td>126.12</td>\n",
       "      <td>14200636.0</td>\n",
       "    </tr>\n",
       "    <tr>\n",
       "      <th>2016-09-30</th>\n",
       "      <td>128.030</td>\n",
       "      <td>128.59</td>\n",
       "      <td>127.4500</td>\n",
       "      <td>128.27</td>\n",
       "      <td>18402945.0</td>\n",
       "      <td>0.0</td>\n",
       "      <td>1.0</td>\n",
       "      <td>128.030</td>\n",
       "      <td>128.59</td>\n",
       "      <td>127.4500</td>\n",
       "      <td>128.27</td>\n",
       "      <td>18402945.0</td>\n",
       "    </tr>\n",
       "    <tr>\n",
       "      <th>2016-10-31</th>\n",
       "      <td>132.010</td>\n",
       "      <td>132.12</td>\n",
       "      <td>130.8835</td>\n",
       "      <td>130.99</td>\n",
       "      <td>15668982.0</td>\n",
       "      <td>0.0</td>\n",
       "      <td>1.0</td>\n",
       "      <td>132.010</td>\n",
       "      <td>132.12</td>\n",
       "      <td>130.8835</td>\n",
       "      <td>130.99</td>\n",
       "      <td>15668982.0</td>\n",
       "    </tr>\n",
       "    <tr>\n",
       "      <th>2016-11-30</th>\n",
       "      <td>120.320</td>\n",
       "      <td>121.79</td>\n",
       "      <td>117.9500</td>\n",
       "      <td>118.42</td>\n",
       "      <td>30188922.0</td>\n",
       "      <td>0.0</td>\n",
       "      <td>1.0</td>\n",
       "      <td>120.320</td>\n",
       "      <td>121.79</td>\n",
       "      <td>117.9500</td>\n",
       "      <td>118.42</td>\n",
       "      <td>30188922.0</td>\n",
       "    </tr>\n",
       "    <tr>\n",
       "      <th>2016-12-31</th>\n",
       "      <td>116.595</td>\n",
       "      <td>116.83</td>\n",
       "      <td>114.7739</td>\n",
       "      <td>115.05</td>\n",
       "      <td>18684106.0</td>\n",
       "      <td>0.0</td>\n",
       "      <td>1.0</td>\n",
       "      <td>116.595</td>\n",
       "      <td>116.83</td>\n",
       "      <td>114.7739</td>\n",
       "      <td>115.05</td>\n",
       "      <td>18684106.0</td>\n",
       "    </tr>\n",
       "  </tbody>\n",
       "</table>\n",
       "</div>"
      ],
      "text/plain": [
       "               Open    High       Low   Close      Volume  Ex-Dividend  \\\n",
       "Date                                                                     \n",
       "2016-08-31  125.600  126.22  125.1000  126.12  14200636.0          0.0   \n",
       "2016-09-30  128.030  128.59  127.4500  128.27  18402945.0          0.0   \n",
       "2016-10-31  132.010  132.12  130.8835  130.99  15668982.0          0.0   \n",
       "2016-11-30  120.320  121.79  117.9500  118.42  30188922.0          0.0   \n",
       "2016-12-31  116.595  116.83  114.7739  115.05  18684106.0          0.0   \n",
       "\n",
       "            Split Ratio  Adj. Open  Adj. High  Adj. Low  Adj. Close  \\\n",
       "Date                                                                  \n",
       "2016-08-31          1.0    125.600     126.22  125.1000      126.12   \n",
       "2016-09-30          1.0    128.030     128.59  127.4500      128.27   \n",
       "2016-10-31          1.0    132.010     132.12  130.8835      130.99   \n",
       "2016-11-30          1.0    120.320     121.79  117.9500      118.42   \n",
       "2016-12-31          1.0    116.595     116.83  114.7739      115.05   \n",
       "\n",
       "            Adj. Volume  \n",
       "Date                     \n",
       "2016-08-31   14200636.0  \n",
       "2016-09-30   18402945.0  \n",
       "2016-10-31   15668982.0  \n",
       "2016-11-30   30188922.0  \n",
       "2016-12-31   18684106.0  "
      ]
     },
     "execution_count": 46,
     "metadata": {},
     "output_type": "execute_result"
    }
   ],
   "source": [
    "fb.tail()"
   ]
  },
  {
   "cell_type": "markdown",
   "metadata": {},
   "source": [
    "Observe that each row of the timeseries data corresponds to the data for the stock on the last trading date of a month."
   ]
  },
  {
   "cell_type": "markdown",
   "metadata": {},
   "source": [
    "Visualizing Time Series Data:\n",
    "\n",
    "Each time series can be represented as a chart.\n",
    "\n",
    "Let us plot the closing price of the FB stock for each month as a graph using matplotlib."
   ]
  },
  {
   "cell_type": "code",
   "execution_count": 55,
   "metadata": {
    "collapsed": true
   },
   "outputs": [],
   "source": [
    "import matplotlib.pyplot as plt"
   ]
  },
  {
   "cell_type": "code",
   "execution_count": 56,
   "metadata": {},
   "outputs": [
    {
     "data": {
      "text/plain": [
       "<matplotlib.axes._subplots.AxesSubplot at 0x10db774a8>"
      ]
     },
     "execution_count": 56,
     "metadata": {},
     "output_type": "execute_result"
    }
   ],
   "source": [
    "fb['Close'].plot(grid=True)"
   ]
  },
  {
   "cell_type": "code",
   "execution_count": 57,
   "metadata": {},
   "outputs": [
    {
     "data": {
      "image/png": "[encoded data removed]",
      "text/plain": [
       "<matplotlib.figure.Figure at 0x10db52eb8>"
      ]
     },
     "metadata": {},
     "output_type": "display_data"
    }
   ],
   "source": [
    "plt.show()"
   ]
  }
 ],
 "metadata": {
  "kernelspec": {
   "display_name": "Python 3",
   "language": "python",
   "name": "python3"
  },
  "language_info": {
   "codemirror_mode": {
    "name": "ipython",
    "version": 3
   },
   "file_extension": ".py",
   "mimetype": "text/x-python",
   "name": "python",
   "nbconvert_exporter": "python",
   "pygments_lexer": "ipython3",
   "version": "3.6.1"
  }
 },
 "nbformat": 4,
 "nbformat_minor": 2
}
